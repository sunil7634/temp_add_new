{
 "cells": [
  {
   "cell_type": "code",
   "execution_count": 1,
   "metadata": {},
   "outputs": [],
   "source": [
    "from astropy.io import fits"
   ]
  },
  {
   "cell_type": "code",
   "execution_count": 29,
   "metadata": {},
   "outputs": [],
   "source": [
    "original='F475W_div_by_F814W.fits'\n",
    "clean='test.fits'\n",
    "\n",
    "with fits.open(clean) as hid:\n",
    "    with fits.open(original) as fid:\n",
    "        primHdr=fits.PrimaryHDU(header=hid[0].header)\n",
    "        Scidata=fits.ImageHDU(hid[0].data,header=fid['SCI'].header)\n",
    "\n",
    "hduListOut=fits.HDUList([primHdr,Scidata])\n",
    "hduListOut.writeto('test.fits',overwrite=True)\n",
    "\n",
    "\n"
   ]
  }
 ],
 "metadata": {
  "kernelspec": {
   "display_name": "Python 3",
   "language": "python",
   "name": "python3"
  },
  "language_info": {
   "codemirror_mode": {
    "name": "ipython",
    "version": 3
   },
   "file_extension": ".py",
   "mimetype": "text/x-python",
   "name": "python",
   "nbconvert_exporter": "python",
   "pygments_lexer": "ipython3",
   "version": "3.7.3"
  }
 },
 "nbformat": 4,
 "nbformat_minor": 4
}
