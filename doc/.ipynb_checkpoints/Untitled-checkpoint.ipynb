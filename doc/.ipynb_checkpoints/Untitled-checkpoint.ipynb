{
 "cells": [
  {
   "cell_type": "code",
   "execution_count": null,
   "metadata": {},
   "outputs": [],
   "source": [
    "6.989;\n",
    "19.424"
   ]
  },
  {
   "cell_type": "code",
   "execution_count": 1,
   "metadata": {},
   "outputs": [],
   "source": [
    "import numpy as np"
   ]
  },
  {
   "cell_type": "code",
   "execution_count": 5,
   "metadata": {},
   "outputs": [],
   "source": [
    "maj=np.linspace(0.001,6.99,11);\n",
    "minb=np.linspace(0.001,19.424,11);"
   ]
  },
  {
   "cell_type": "code",
   "execution_count": 6,
   "metadata": {},
   "outputs": [
    {
     "data": {
      "text/plain": [
       "array([1.0000e-03, 6.9990e-01, 1.3988e+00, 2.0977e+00, 2.7966e+00,\n",
       "       3.4955e+00, 4.1944e+00, 4.8933e+00, 5.5922e+00, 6.2911e+00,\n",
       "       6.9900e+00])"
      ]
     },
     "execution_count": 6,
     "metadata": {},
     "output_type": "execute_result"
    }
   ],
   "source": [
    "maj"
   ]
  },
  {
   "cell_type": "code",
   "execution_count": 7,
   "metadata": {},
   "outputs": [
    {
     "data": {
      "text/plain": [
       "array([1.00000e-03, 1.94330e+00, 3.88560e+00, 5.82790e+00, 7.77020e+00,\n",
       "       9.71250e+00, 1.16548e+01, 1.35971e+01, 1.55394e+01, 1.74817e+01,\n",
       "       1.94240e+01])"
      ]
     },
     "execution_count": 7,
     "metadata": {},
     "output_type": "execute_result"
    }
   ],
   "source": [
    "minb"
   ]
  },
  {
   "cell_type": "code",
   "execution_count": 8,
   "metadata": {},
   "outputs": [],
   "source": [
    "r=np.vstack((maj,minb))"
   ]
  },
  {
   "cell_type": "code",
   "execution_count": 14,
   "metadata": {},
   "outputs": [
    {
     "data": {
      "text/plain": [
       "array([[1.00000e-03, 1.00000e-03],\n",
       "       [6.99900e-01, 1.94330e+00],\n",
       "       [1.39880e+00, 3.88560e+00],\n",
       "       [2.09770e+00, 5.82790e+00],\n",
       "       [2.79660e+00, 7.77020e+00],\n",
       "       [3.49550e+00, 9.71250e+00],\n",
       "       [4.19440e+00, 1.16548e+01],\n",
       "       [4.89330e+00, 1.35971e+01],\n",
       "       [5.59220e+00, 1.55394e+01],\n",
       "       [6.29110e+00, 1.74817e+01],\n",
       "       [6.99000e+00, 1.94240e+01]])"
      ]
     },
     "execution_count": 14,
     "metadata": {},
     "output_type": "execute_result"
    }
   ],
   "source": [
    "r.T"
   ]
  },
  {
   "cell_type": "code",
   "execution_count": null,
   "metadata": {},
   "outputs": [],
   "source": [
    "1.00000e-03 1.00000e-03\n",
    "6.99900e-01 1.94330e+00\n",
    "1.39880e+00 3.88560e+00\n",
    "2.09770e+00 5.82790e+00\n",
    "2.79660e+00 7.77020e+00\n",
    "3.49550e+00 9.71250e+00\n",
    "4.19440e+00 1.16548e+01\n",
    "4.89330e+00 1.35971e+01\n",
    "5.59220e+00 1.55394e+01\n",
    "6.29110e+00 1.74817e+01\n",
    "6.99000e+00 1.94240e+01"
   ]
  }
 ],
 "metadata": {
  "kernelspec": {
   "display_name": "Python 3",
   "language": "python",
   "name": "python3"
  },
  "language_info": {
   "codemirror_mode": {
    "name": "ipython",
    "version": 3
   },
   "file_extension": ".py",
   "mimetype": "text/x-python",
   "name": "python",
   "nbconvert_exporter": "python",
   "pygments_lexer": "ipython3",
   "version": "3.7.6"
  }
 },
 "nbformat": 4,
 "nbformat_minor": 4
}
