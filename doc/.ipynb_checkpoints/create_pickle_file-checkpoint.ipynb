{
 "cells": [
  {
   "cell_type": "code",
   "execution_count": 1,
   "metadata": {},
   "outputs": [],
   "source": [
    "import pickle as pic\n",
    "import pandas as pd"
   ]
  },
  {
   "cell_type": "code",
   "execution_count": 2,
   "metadata": {},
   "outputs": [],
   "source": [
    "data=open('IC_Zero_Pt_Table.p','rb');\n",
    "ourfile=pic.load(data,encoding='latin1')"
   ]
  },
  {
   "cell_type": "code",
   "execution_count": 3,
   "metadata": {},
   "outputs": [
    {
     "data": {
      "text/html": [
       "<div>\n",
       "<style scoped>\n",
       "    .dataframe tbody tr th:only-of-type {\n",
       "        vertical-align: middle;\n",
       "    }\n",
       "\n",
       "    .dataframe tbody tr th {\n",
       "        vertical-align: top;\n",
       "    }\n",
       "\n",
       "    .dataframe thead th {\n",
       "        text-align: right;\n",
       "    }\n",
       "</style>\n",
       "<table border=\"1\" class=\"dataframe\">\n",
       "  <thead>\n",
       "    <tr style=\"text-align: right;\">\n",
       "      <th></th>\n",
       "      <th>PhotPlam</th>\n",
       "      <th>PhotFlam</th>\n",
       "      <th>ST Zpt</th>\n",
       "      <th>AB Zpt</th>\n",
       "      <th>GalExt</th>\n",
       "      <th>ApCor</th>\n",
       "      <th>kcor</th>\n",
       "      <th>DrizCor</th>\n",
       "    </tr>\n",
       "  </thead>\n",
       "  <tbody>\n",
       "    <tr>\n",
       "      <th>275</th>\n",
       "      <td>2707.19995</td>\n",
       "      <td>3.185850e-18</td>\n",
       "      <td>22.641937</td>\n",
       "      <td>24.171335</td>\n",
       "      <td>0.184</td>\n",
       "      <td>0.122871</td>\n",
       "      <td>0</td>\n",
       "      <td>0.5625</td>\n",
       "    </tr>\n",
       "    <tr>\n",
       "      <th>475</th>\n",
       "      <td>4746.16210</td>\n",
       "      <td>1.823501e-19</td>\n",
       "      <td>25.747735</td>\n",
       "      <td>26.058022</td>\n",
       "      <td>0.109</td>\n",
       "      <td>0.100013</td>\n",
       "      <td>0</td>\n",
       "      <td>0.4800</td>\n",
       "    </tr>\n",
       "    <tr>\n",
       "      <th>814</th>\n",
       "      <td>8044.98830</td>\n",
       "      <td>7.032963e-20</td>\n",
       "      <td>26.782154</td>\n",
       "      <td>25.946527</td>\n",
       "      <td>0.051</td>\n",
       "      <td>0.096447</td>\n",
       "      <td>0</td>\n",
       "      <td>0.4800</td>\n",
       "    </tr>\n",
       "  </tbody>\n",
       "</table>\n",
       "</div>"
      ],
      "text/plain": [
       "       PhotPlam      PhotFlam     ST Zpt     AB Zpt  GalExt     ApCor  kcor  \\\n",
       "275  2707.19995  3.185850e-18  22.641937  24.171335   0.184  0.122871     0   \n",
       "475  4746.16210  1.823501e-19  25.747735  26.058022   0.109  0.100013     0   \n",
       "814  8044.98830  7.032963e-20  26.782154  25.946527   0.051  0.096447     0   \n",
       "\n",
       "     DrizCor  \n",
       "275   0.5625  \n",
       "475   0.4800  \n",
       "814   0.4800  "
      ]
     },
     "execution_count": 3,
     "metadata": {},
     "output_type": "execute_result"
    }
   ],
   "source": [
    "ourfile"
   ]
  },
  {
   "cell_type": "code",
   "execution_count": 66,
   "metadata": {},
   "outputs": [],
   "source": [
    "import pandas as pd\n",
    "\n",
    "file_2 = pd.read_pickle('IC_Zero_Pt_Table.p')\n",
    "file_2;"
   ]
  },
  {
   "cell_type": "markdown",
   "metadata": {},
   "source": [
    "## new_pickle file for ESO_137_002"
   ]
  },
  {
   "cell_type": "code",
   "execution_count": 53,
   "metadata": {},
   "outputs": [],
   "source": [
    "data = {'abZpt':[24.1713, 26.059, 25.948 , 25.9463], 'GalExt':[1.096, 0.653, 0.305, 0.102],\\\n",
    "       'ApCor':[0.124088,0.100013,0.097634,0.176453], 'kcor':[0.019457,0.033213, 0.004671,0.022268],\\\n",
    "        'DrizCor':[0.5625,0.48,0.48,0.213018]} ;\n",
    "df = pd.DataFrame(data,index=['275','475','814','160']); \n",
    "#df"
   ]
  },
  {
   "cell_type": "code",
   "execution_count": 54,
   "metadata": {},
   "outputs": [
    {
     "data": {
      "text/html": [
       "<div>\n",
       "<style scoped>\n",
       "    .dataframe tbody tr th:only-of-type {\n",
       "        vertical-align: middle;\n",
       "    }\n",
       "\n",
       "    .dataframe tbody tr th {\n",
       "        vertical-align: top;\n",
       "    }\n",
       "\n",
       "    .dataframe thead th {\n",
       "        text-align: right;\n",
       "    }\n",
       "</style>\n",
       "<table border=\"1\" class=\"dataframe\">\n",
       "  <thead>\n",
       "    <tr style=\"text-align: right;\">\n",
       "      <th></th>\n",
       "      <th>abZpt</th>\n",
       "      <th>GalExt</th>\n",
       "      <th>ApCor</th>\n",
       "      <th>kcor</th>\n",
       "      <th>DrizCor</th>\n",
       "    </tr>\n",
       "  </thead>\n",
       "  <tbody>\n",
       "    <tr>\n",
       "      <th>275</th>\n",
       "      <td>24.1713</td>\n",
       "      <td>1.096</td>\n",
       "      <td>0.124088</td>\n",
       "      <td>0.019457</td>\n",
       "      <td>0.562500</td>\n",
       "    </tr>\n",
       "    <tr>\n",
       "      <th>475</th>\n",
       "      <td>26.0590</td>\n",
       "      <td>0.653</td>\n",
       "      <td>0.100013</td>\n",
       "      <td>0.033213</td>\n",
       "      <td>0.480000</td>\n",
       "    </tr>\n",
       "    <tr>\n",
       "      <th>814</th>\n",
       "      <td>25.9480</td>\n",
       "      <td>0.305</td>\n",
       "      <td>0.097634</td>\n",
       "      <td>0.004671</td>\n",
       "      <td>0.480000</td>\n",
       "    </tr>\n",
       "    <tr>\n",
       "      <th>160</th>\n",
       "      <td>25.9463</td>\n",
       "      <td>0.102</td>\n",
       "      <td>0.176453</td>\n",
       "      <td>0.022268</td>\n",
       "      <td>0.213018</td>\n",
       "    </tr>\n",
       "  </tbody>\n",
       "</table>\n",
       "</div>"
      ],
      "text/plain": [
       "       abZpt  GalExt     ApCor      kcor   DrizCor\n",
       "275  24.1713   1.096  0.124088  0.019457  0.562500\n",
       "475  26.0590   0.653  0.100013  0.033213  0.480000\n",
       "814  25.9480   0.305  0.097634  0.004671  0.480000\n",
       "160  25.9463   0.102  0.176453  0.022268  0.213018"
      ]
     },
     "execution_count": 54,
     "metadata": {},
     "output_type": "execute_result"
    }
   ],
   "source": [
    "df"
   ]
  },
  {
   "cell_type": "code",
   "execution_count": 55,
   "metadata": {},
   "outputs": [],
   "source": [
    "# Save Outputs\n",
    "df.to_pickle('ESO_137_002.p')"
   ]
  },
  {
   "cell_type": "code",
   "execution_count": 61,
   "metadata": {},
   "outputs": [],
   "source": [
    "data=open('ESO_137_002.p','rb')\n",
    "ourfile=pic.load(data)"
   ]
  },
  {
   "cell_type": "code",
   "execution_count": 62,
   "metadata": {},
   "outputs": [
    {
     "data": {
      "text/html": [
       "<div>\n",
       "<style scoped>\n",
       "    .dataframe tbody tr th:only-of-type {\n",
       "        vertical-align: middle;\n",
       "    }\n",
       "\n",
       "    .dataframe tbody tr th {\n",
       "        vertical-align: top;\n",
       "    }\n",
       "\n",
       "    .dataframe thead th {\n",
       "        text-align: right;\n",
       "    }\n",
       "</style>\n",
       "<table border=\"1\" class=\"dataframe\">\n",
       "  <thead>\n",
       "    <tr style=\"text-align: right;\">\n",
       "      <th></th>\n",
       "      <th>abZpt</th>\n",
       "      <th>GalExt</th>\n",
       "      <th>ApCor</th>\n",
       "      <th>kcor</th>\n",
       "      <th>DrizCor</th>\n",
       "    </tr>\n",
       "  </thead>\n",
       "  <tbody>\n",
       "    <tr>\n",
       "      <th>275</th>\n",
       "      <td>24.1713</td>\n",
       "      <td>1.096</td>\n",
       "      <td>0.124088</td>\n",
       "      <td>0.019457</td>\n",
       "      <td>0.562500</td>\n",
       "    </tr>\n",
       "    <tr>\n",
       "      <th>475</th>\n",
       "      <td>26.0590</td>\n",
       "      <td>0.653</td>\n",
       "      <td>0.100013</td>\n",
       "      <td>0.033213</td>\n",
       "      <td>0.480000</td>\n",
       "    </tr>\n",
       "    <tr>\n",
       "      <th>814</th>\n",
       "      <td>25.9480</td>\n",
       "      <td>0.305</td>\n",
       "      <td>0.097634</td>\n",
       "      <td>0.004671</td>\n",
       "      <td>0.480000</td>\n",
       "    </tr>\n",
       "    <tr>\n",
       "      <th>160</th>\n",
       "      <td>25.9463</td>\n",
       "      <td>0.102</td>\n",
       "      <td>0.176453</td>\n",
       "      <td>0.022268</td>\n",
       "      <td>0.213018</td>\n",
       "    </tr>\n",
       "  </tbody>\n",
       "</table>\n",
       "</div>"
      ],
      "text/plain": [
       "       abZpt  GalExt     ApCor      kcor   DrizCor\n",
       "275  24.1713   1.096  0.124088  0.019457  0.562500\n",
       "475  26.0590   0.653  0.100013  0.033213  0.480000\n",
       "814  25.9480   0.305  0.097634  0.004671  0.480000\n",
       "160  25.9463   0.102  0.176453  0.022268  0.213018"
      ]
     },
     "execution_count": 62,
     "metadata": {},
     "output_type": "execute_result"
    }
   ],
   "source": [
    "ourfile"
   ]
  }
 ],
 "metadata": {
  "kernelspec": {
   "display_name": "Python 3",
   "language": "python",
   "name": "python3"
  },
  "language_info": {
   "codemirror_mode": {
    "name": "ipython",
    "version": 3
   },
   "file_extension": ".py",
   "mimetype": "text/x-python",
   "name": "python",
   "nbconvert_exporter": "python",
   "pygments_lexer": "ipython3",
   "version": "3.7.6"
  }
 },
 "nbformat": 4,
 "nbformat_minor": 4
}
